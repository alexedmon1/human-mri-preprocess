{
 "cells": [
  {
   "cell_type": "markdown",
   "id": "93ee96cf-4bfc-49b1-bf71-317b1de83120",
   "metadata": {},
   "source": [
    "# Convert Freesurfer Stats to Tables\n",
    "\n",
    "This notebook will take a list of subjects (from a SUBJECT_DIR or another folder) with Freesurfer outputs and export csv files that contain all statistics. These csv files can then be imported into any statistics program for your basic exploratory analysis.\n",
    "\n",
    "This uses the Freesurfer *asegstats2table* and *aparcstats2table* functions found in the Freesurfer distribution."
   ]
  },
  {
   "cell_type": "markdown",
   "id": "656a116b-a0f8-4e53-a8c4-98a9cd6fe321",
   "metadata": {},
   "source": [
    "## 1. Import needed modules"
   ]
  },
  {
   "cell_type": "code",
   "execution_count": 4,
   "id": "8a07c0a4-4250-4dc3-a1b9-8eaa3192e8ed",
   "metadata": {},
   "outputs": [],
   "source": [
    "import subprocess\n",
    "import sys\n",
    "import os\n",
    "from glob import glob\n",
    "import pandas as pd"
   ]
  },
  {
   "cell_type": "code",
   "execution_count": 2,
   "id": "96d23c5f-322a-455e-bcd5-dee08ccad8e6",
   "metadata": {},
   "outputs": [],
   "source": [
    "subs = glob('/mnt/elysium/IRC805/morph/freesurfer/*')\n",
    "subs.remove('/mnt/elysium/IRC805/morph/freesurfer/fsaverage')\n",
    "with open('/mnt/elysium/IRC805/morph/fs_subjects.txt', 'w') as textfile:\n",
    "    for i in subs:\n",
    "        textfile.write(i + '\\n')\n",
    "textfile.close()"
   ]
  },
  {
   "cell_type": "markdown",
   "id": "b7730cda-5601-4908-a4d5-b03415a14dda",
   "metadata": {},
   "source": [
    "## 2. Set-up hemispheres and measures.\n",
    "\n",
    "In this box, change *subject_list* and *tablefile_dir* to your own custom locations"
   ]
  },
  {
   "cell_type": "code",
   "execution_count": 1,
   "id": "cd3366e3-5ee3-4250-819e-9f6537b1885e",
   "metadata": {},
   "outputs": [],
   "source": [
    "# Setup\n",
    "hemi_list = ['lh', 'rh']\n",
    "aparc_measure_list = ['area', 'volume', 'thickness', 'thicknessstd', \n",
    "                      'meancurv', 'gauscurv', 'foldind', 'curvind']\n",
    "parc_list = ['aparc', 'aparc.a2009s', 'aparc.DKTatlas']\n",
    "aseg_measure_list = ['volume']\n",
    "subject_list = '/mnt/elysium/IRC805/morph/subjects.txt'\n",
    "tablefile_dir = '/mnt/elysium/IRC805/morph/fs_stats/'"
   ]
  },
  {
   "cell_type": "markdown",
   "id": "d7c7d99e-be9f-4af1-95a1-65bfe3b75a2e",
   "metadata": {},
   "source": [
    "## 3. Functions for creating bash commands"
   ]
  },
  {
   "cell_type": "code",
   "execution_count": 2,
   "id": "97043521-6823-471a-9114-83d045fba6ae",
   "metadata": {},
   "outputs": [],
   "source": [
    "def aparc_cmd(sfile, tdir, hemi, parc = 'aparc', meas = 'area', delim = 'comma'):\n",
    "    \"\"\"\n",
    "    cmd = aparcstats2table --subjectsfile= --tablefile= --hemi= --parc= --measure= --skip --delimiter=\n",
    "    [aparcstats2table, s, t, h, p, m, d, --skip]\n",
    "    \"\"\"\n",
    "    s = '--subjectsfile='+sfile\n",
    "    t = '--tablefile='+tdir+parc+'_'+hemi+'_'+meas+'.csv'\n",
    "    h = '--hemi='+hemi\n",
    "    p = '--parc='+parc\n",
    "    m = '--meas='+meas\n",
    "    d = '--delimiter='+delim\n",
    "    return ['aparcstats2table', s, t, h, p, m, d, '--skip']\n",
    "\n",
    "def aseg_cmd(sfile, tdir, meas='volume', delim='comma'):\n",
    "    \"\"\"\n",
    "    cmd = aparcstats2table --subjectsfile= --tablefile= --measure= --delimiter= --skip \n",
    "    [aparcstats2table, s, t, m, d, --skip]\n",
    "    \"\"\"\n",
    "    s = '--subjectsfile='+sfile\n",
    "    t = '--tablefile='+tdir+'asegstats.csv'\n",
    "    m = '--meas='+meas\n",
    "    d = '--delimiter='+delim\n",
    "    return ['asegstats2table', s, t, m, d, '--skip']"
   ]
  },
  {
   "cell_type": "markdown",
   "id": "87c68b52-881b-43fc-af44-7a768e17d01c",
   "metadata": {},
   "source": [
    "## Execute loops exporting tables to tablefile_dir"
   ]
  },
  {
   "cell_type": "code",
   "execution_count": 5,
   "id": "f3c736db-9e93-4230-83e7-a93a08b31913",
   "metadata": {},
   "outputs": [],
   "source": [
    "for i in aseg_measure_list:\n",
    "    cmd = aseg_cmd(subject_list, tablefile_dir, meas=i)\n",
    "    subprocess.run(cmd, stdin=subprocess.PIPE, stdout=subprocess.PIPE, stderr=subprocess.PIPE)"
   ]
  },
  {
   "cell_type": "code",
   "execution_count": 8,
   "id": "612ca181-11f8-40ec-9b71-a12583e0c619",
   "metadata": {},
   "outputs": [],
   "source": [
    "parc = parc_list[2]\n",
    "for i in hemi_list:\n",
    "    for j in aparc_measure_list:\n",
    "        cmd = aparc_cmd(subject_list, tablefile_dir, hemi=i, parc=parc, meas=j)\n",
    "        subprocess.run(cmd, stdin=subprocess.PIPE, stdout=subprocess.PIPE, stderr=subprocess.PIPE)"
   ]
  },
  {
   "cell_type": "markdown",
   "id": "e3ee5822-437e-42c4-b5bc-e88a9f24ff04",
   "metadata": {},
   "source": [
    "# Cleaning tables "
   ]
  },
  {
   "cell_type": "code",
   "execution_count": 9,
   "id": "d4150592-8e51-41bb-b2ed-a417c12b16f4",
   "metadata": {},
   "outputs": [
    {
     "data": {
      "text/plain": [
       "['/mnt/elysium/IRC805/morph/fs_stats/aparc.a2009s_lh_thicknessstd.csv',\n",
       " '/mnt/elysium/IRC805/morph/fs_stats/aparc.a2009s_lh_thickness.csv',\n",
       " '/mnt/elysium/IRC805/morph/fs_stats/aparc.a2009s_rh_curvind.csv',\n",
       " '/mnt/elysium/IRC805/morph/fs_stats/asegstats.csv',\n",
       " '/mnt/elysium/IRC805/morph/fs_stats/aparc.a2009s_rh_area.csv',\n",
       " '/mnt/elysium/IRC805/morph/fs_stats/aparc_rh_gauscurv.csv',\n",
       " '/mnt/elysium/IRC805/morph/fs_stats/aparc.DKTatlas_rh_thicknessstd.csv',\n",
       " '/mnt/elysium/IRC805/morph/fs_stats/aparc_lh_gauscurv.csv',\n",
       " '/mnt/elysium/IRC805/morph/fs_stats/aparc.a2009s_lh_meancurv.csv',\n",
       " '/mnt/elysium/IRC805/morph/fs_stats/aparc.a2009s_rh_foldind.csv',\n",
       " '/mnt/elysium/IRC805/morph/fs_stats/aparc_rh_meancurv.csv',\n",
       " '/mnt/elysium/IRC805/morph/fs_stats/aparc_lh_foldind.csv',\n",
       " '/mnt/elysium/IRC805/morph/fs_stats/aparc.a2009s_lh_foldind.csv',\n",
       " '/mnt/elysium/IRC805/morph/fs_stats/aparc_lh_thicknessstd.csv',\n",
       " '/mnt/elysium/IRC805/morph/fs_stats/aparc.a2009s_lh_gauscurv.csv',\n",
       " '/mnt/elysium/IRC805/morph/fs_stats/aparc.a2009s_rh_thickness.csv',\n",
       " '/mnt/elysium/IRC805/morph/fs_stats/aparc.DKTatlas_lh_curvind.csv',\n",
       " '/mnt/elysium/IRC805/morph/fs_stats/aparc.a2009s_lh_curvind.csv',\n",
       " '/mnt/elysium/IRC805/morph/fs_stats/aparc.a2009s_rh_volume.csv',\n",
       " '/mnt/elysium/IRC805/morph/fs_stats/aparc.DKTatlas_rh_meancurv.csv',\n",
       " '/mnt/elysium/IRC805/morph/fs_stats/aparc_rh_volume.csv',\n",
       " '/mnt/elysium/IRC805/morph/fs_stats/aparc.a2009s_lh_volume.csv',\n",
       " '/mnt/elysium/IRC805/morph/fs_stats/aparc_rh_curvind.csv',\n",
       " '/mnt/elysium/IRC805/morph/fs_stats/aparc.DKTatlas_rh_thickness.csv',\n",
       " '/mnt/elysium/IRC805/morph/fs_stats/aparc_rh_thicknessstd.csv',\n",
       " '/mnt/elysium/IRC805/morph/fs_stats/aparc_lh_thickness.csv',\n",
       " '/mnt/elysium/IRC805/morph/fs_stats/aparc_lh_curvind.csv',\n",
       " '/mnt/elysium/IRC805/morph/fs_stats/aparc.DKTatlas_lh_foldind.csv',\n",
       " '/mnt/elysium/IRC805/morph/fs_stats/aparc_rh_thickness.csv',\n",
       " '/mnt/elysium/IRC805/morph/fs_stats/aparc.DKTatlas_lh_gauscurv.csv',\n",
       " '/mnt/elysium/IRC805/morph/fs_stats/aparc.DKTatlas_lh_thickness.csv',\n",
       " '/mnt/elysium/IRC805/morph/fs_stats/aparc.a2009s_lh_area.csv',\n",
       " '/mnt/elysium/IRC805/morph/fs_stats/aparc.a2009s_rh_gauscurv.csv',\n",
       " '/mnt/elysium/IRC805/morph/fs_stats/aparc.DKTatlas_rh_foldind.csv',\n",
       " '/mnt/elysium/IRC805/morph/fs_stats/aparc.DKTatlas_rh_curvind.csv',\n",
       " '/mnt/elysium/IRC805/morph/fs_stats/aparc.DKTatlas_rh_area.csv',\n",
       " '/mnt/elysium/IRC805/morph/fs_stats/aparc_lh_area.csv',\n",
       " '/mnt/elysium/IRC805/morph/fs_stats/aparc.DKTatlas_rh_gauscurv.csv',\n",
       " '/mnt/elysium/IRC805/morph/fs_stats/aparc.DKTatlas_lh_meancurv.csv',\n",
       " '/mnt/elysium/IRC805/morph/fs_stats/aparc_rh_foldind.csv',\n",
       " '/mnt/elysium/IRC805/morph/fs_stats/aparc.DKTatlas_lh_thicknessstd.csv',\n",
       " '/mnt/elysium/IRC805/morph/fs_stats/aparc.a2009s_rh_thicknessstd.csv',\n",
       " '/mnt/elysium/IRC805/morph/fs_stats/aparc.DKTatlas_lh_area.csv',\n",
       " '/mnt/elysium/IRC805/morph/fs_stats/aparc.DKTatlas_lh_volume.csv',\n",
       " '/mnt/elysium/IRC805/morph/fs_stats/aparc_rh_area.csv',\n",
       " '/mnt/elysium/IRC805/morph/fs_stats/aparc_lh_meancurv.csv',\n",
       " '/mnt/elysium/IRC805/morph/fs_stats/aparc_lh_volume.csv',\n",
       " '/mnt/elysium/IRC805/morph/fs_stats/aparc.DKTatlas_rh_volume.csv',\n",
       " '/mnt/elysium/IRC805/morph/fs_stats/aparc.a2009s_rh_meancurv.csv']"
      ]
     },
     "execution_count": 9,
     "metadata": {},
     "output_type": "execute_result"
    }
   ],
   "source": [
    "files = glob(tablefile_dir+'*')\n",
    "files"
   ]
  },
  {
   "cell_type": "code",
   "execution_count": 10,
   "id": "bb8ae98a-8c64-45f9-9bf4-7e591df2a9ff",
   "metadata": {},
   "outputs": [],
   "source": [
    "def subjects_first_column(x):\n",
    "    v = []\n",
    "    for i in range(len(df.iloc[:,0])):\n",
    "        sub = x.iloc[:,0][i].split('/')[-1]\n",
    "        sub = sub.replace('_', '-')\n",
    "        v.append(sub)\n",
    "    x.iloc[:,0] = v\n",
    "    return x"
   ]
  },
  {
   "cell_type": "code",
   "execution_count": 11,
   "id": "6fbe550c-0735-49c6-8997-2daca70609a6",
   "metadata": {},
   "outputs": [],
   "source": [
    "for i in files:\n",
    "    df = pd.read_csv(i)\n",
    "    df = subjects_first_column(df)\n",
    "    df.to_csv(i, index=False)"
   ]
  },
  {
   "cell_type": "markdown",
   "id": "25ae0f7b-4627-4e20-be9a-fa3a9148c5be",
   "metadata": {},
   "source": [
    "# Remove columns in atlas"
   ]
  },
  {
   "cell_type": "code",
   "execution_count": 12,
   "id": "6572de47-4098-4967-9720-ef3f43a7ff83",
   "metadata": {},
   "outputs": [
    {
     "data": {
      "text/plain": [
       "['/mnt/elysium/IRC805/morph/fs_stats/aparc.a2009s_lh_thicknessstd.csv',\n",
       " '/mnt/elysium/IRC805/morph/fs_stats/aparc.a2009s_lh_thickness.csv',\n",
       " '/mnt/elysium/IRC805/morph/fs_stats/aparc.a2009s_rh_curvind.csv',\n",
       " '/mnt/elysium/IRC805/morph/fs_stats/aparc.a2009s_rh_area.csv',\n",
       " '/mnt/elysium/IRC805/morph/fs_stats/aparc_rh_gauscurv.csv',\n",
       " '/mnt/elysium/IRC805/morph/fs_stats/aparc.DKTatlas_rh_thicknessstd.csv',\n",
       " '/mnt/elysium/IRC805/morph/fs_stats/aparc_lh_gauscurv.csv',\n",
       " '/mnt/elysium/IRC805/morph/fs_stats/aparc.a2009s_lh_meancurv.csv',\n",
       " '/mnt/elysium/IRC805/morph/fs_stats/aparc.a2009s_rh_foldind.csv',\n",
       " '/mnt/elysium/IRC805/morph/fs_stats/aparc_rh_meancurv.csv',\n",
       " '/mnt/elysium/IRC805/morph/fs_stats/aparc_lh_foldind.csv',\n",
       " '/mnt/elysium/IRC805/morph/fs_stats/aparc.a2009s_lh_foldind.csv',\n",
       " '/mnt/elysium/IRC805/morph/fs_stats/aparc_lh_thicknessstd.csv',\n",
       " '/mnt/elysium/IRC805/morph/fs_stats/aparc.a2009s_lh_gauscurv.csv',\n",
       " '/mnt/elysium/IRC805/morph/fs_stats/aparc.a2009s_rh_thickness.csv',\n",
       " '/mnt/elysium/IRC805/morph/fs_stats/aparc.DKTatlas_lh_curvind.csv',\n",
       " '/mnt/elysium/IRC805/morph/fs_stats/aparc.a2009s_lh_curvind.csv',\n",
       " '/mnt/elysium/IRC805/morph/fs_stats/aparc.a2009s_rh_volume.csv',\n",
       " '/mnt/elysium/IRC805/morph/fs_stats/aparc.DKTatlas_rh_meancurv.csv',\n",
       " '/mnt/elysium/IRC805/morph/fs_stats/aparc_rh_volume.csv',\n",
       " '/mnt/elysium/IRC805/morph/fs_stats/aparc.a2009s_lh_volume.csv',\n",
       " '/mnt/elysium/IRC805/morph/fs_stats/aparc_rh_curvind.csv',\n",
       " '/mnt/elysium/IRC805/morph/fs_stats/aparc.DKTatlas_rh_thickness.csv',\n",
       " '/mnt/elysium/IRC805/morph/fs_stats/aparc_rh_thicknessstd.csv',\n",
       " '/mnt/elysium/IRC805/morph/fs_stats/aparc_lh_thickness.csv',\n",
       " '/mnt/elysium/IRC805/morph/fs_stats/aparc_lh_curvind.csv',\n",
       " '/mnt/elysium/IRC805/morph/fs_stats/aparc.DKTatlas_lh_foldind.csv',\n",
       " '/mnt/elysium/IRC805/morph/fs_stats/aparc_rh_thickness.csv',\n",
       " '/mnt/elysium/IRC805/morph/fs_stats/aparc.DKTatlas_lh_gauscurv.csv',\n",
       " '/mnt/elysium/IRC805/morph/fs_stats/aparc.DKTatlas_lh_thickness.csv',\n",
       " '/mnt/elysium/IRC805/morph/fs_stats/aparc.a2009s_lh_area.csv',\n",
       " '/mnt/elysium/IRC805/morph/fs_stats/aparc.a2009s_rh_gauscurv.csv',\n",
       " '/mnt/elysium/IRC805/morph/fs_stats/aparc.DKTatlas_rh_foldind.csv',\n",
       " '/mnt/elysium/IRC805/morph/fs_stats/aparc.DKTatlas_rh_curvind.csv',\n",
       " '/mnt/elysium/IRC805/morph/fs_stats/aparc.DKTatlas_rh_area.csv',\n",
       " '/mnt/elysium/IRC805/morph/fs_stats/aparc_lh_area.csv',\n",
       " '/mnt/elysium/IRC805/morph/fs_stats/aparc.DKTatlas_rh_gauscurv.csv',\n",
       " '/mnt/elysium/IRC805/morph/fs_stats/aparc.DKTatlas_lh_meancurv.csv',\n",
       " '/mnt/elysium/IRC805/morph/fs_stats/aparc_rh_foldind.csv',\n",
       " '/mnt/elysium/IRC805/morph/fs_stats/aparc.DKTatlas_lh_thicknessstd.csv',\n",
       " '/mnt/elysium/IRC805/morph/fs_stats/aparc.a2009s_rh_thicknessstd.csv',\n",
       " '/mnt/elysium/IRC805/morph/fs_stats/aparc.DKTatlas_lh_area.csv',\n",
       " '/mnt/elysium/IRC805/morph/fs_stats/aparc.DKTatlas_lh_volume.csv',\n",
       " '/mnt/elysium/IRC805/morph/fs_stats/aparc_rh_area.csv',\n",
       " '/mnt/elysium/IRC805/morph/fs_stats/aparc_lh_meancurv.csv',\n",
       " '/mnt/elysium/IRC805/morph/fs_stats/aparc_lh_volume.csv',\n",
       " '/mnt/elysium/IRC805/morph/fs_stats/aparc.DKTatlas_rh_volume.csv',\n",
       " '/mnt/elysium/IRC805/morph/fs_stats/aparc.a2009s_rh_meancurv.csv']"
      ]
     },
     "execution_count": 12,
     "metadata": {},
     "output_type": "execute_result"
    }
   ],
   "source": [
    "files = glob(tablefile_dir+'aparc*')\n",
    "files"
   ]
  },
  {
   "cell_type": "code",
   "execution_count": 13,
   "id": "274e0120-e74e-41b4-8e59-06ec076a00b3",
   "metadata": {},
   "outputs": [],
   "source": [
    "for i in files:\n",
    "    df = pd.read_csv(i)\n",
    "    df.drop(['BrainSegVolNotVent', 'eTIV'], axis=1, inplace=True)\n",
    "    df.to_csv(i, index=False) "
   ]
  },
  {
   "cell_type": "code",
   "execution_count": null,
   "id": "aae7ef67-f78f-4ec0-a58e-393cf86b7ecf",
   "metadata": {},
   "outputs": [],
   "source": []
  },
  {
   "cell_type": "code",
   "execution_count": null,
   "id": "492b355d-5474-4696-86d0-6748d0e57dde",
   "metadata": {},
   "outputs": [],
   "source": []
  }
 ],
 "metadata": {
  "kernelspec": {
   "display_name": "Python 3 (ipykernel)",
   "language": "python",
   "name": "python3"
  },
  "language_info": {
   "codemirror_mode": {
    "name": "ipython",
    "version": 3
   },
   "file_extension": ".py",
   "mimetype": "text/x-python",
   "name": "python",
   "nbconvert_exporter": "python",
   "pygments_lexer": "ipython3",
   "version": "3.9.12"
  }
 },
 "nbformat": 4,
 "nbformat_minor": 5
}
