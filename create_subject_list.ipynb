{
 "cells": [
  {
   "cell_type": "code",
   "execution_count": null,
   "id": "c79347c0-16e3-4e41-b749-ca328567670f",
   "metadata": {},
   "outputs": [],
   "source": [
    "from glob import glob"
   ]
  },
  {
   "cell_type": "code",
   "execution_count": null,
   "id": "2d75fa31-a0a7-4dae-818f-a3d86f45bf50",
   "metadata": {},
   "outputs": [],
   "source": [
    "subject_files = glob('/mnt/elysium/IRC805/morph/freesurfer/*')"
   ]
  },
  {
   "cell_type": "code",
   "execution_count": 9,
   "id": "13167347-42a5-4360-9eae-04521815db57",
   "metadata": {},
   "outputs": [],
   "source": [
    "subject_files.remove('/mnt/elysium/IRC805/morph/freesurfer/fsaverage')\n",
    "subject_files.remove('/mnt/elysium/IRC805/morph/freesurfer/580101')"
   ]
  },
  {
   "cell_type": "code",
   "execution_count": 10,
   "id": "4312e29d-2e18-4228-83ce-20c2f4c40c69",
   "metadata": {},
   "outputs": [],
   "source": [
    "with open('/mnt/elysium/IRC805/morph/subjects.txt', 'w') as f:\n",
    "    for item in subject_files:\n",
    "        f.write(\"%s\\n\" % item)"
   ]
  },
  {
   "cell_type": "code",
   "execution_count": null,
   "id": "d9538b2e-b3c1-49fd-8272-487bfcd97ec9",
   "metadata": {},
   "outputs": [
    {
     "data": {
      "text/plain": [
       "['/mnt/limbo/scratch/CARES/bids/sub-006-M/func/sub-006-M_task-verbs_bold.nii',\n",
       " '/mnt/limbo/scratch/CARES/bids/sub-007-M/func/sub-007-M_task-verbs_bold.nii',\n",
       " '/mnt/limbo/scratch/CARES/bids/sub-010-M/func/sub-010-M_task-verbs_bold.nii',\n",
       " '/mnt/limbo/scratch/CARES/bids/sub-013-M/func/sub-013-M_task-verbs_bold.nii',\n",
       " '/mnt/limbo/scratch/CARES/bids/sub-026-M/func/sub-026-M_task-verbs_bold.nii',\n",
       " '/mnt/limbo/scratch/CARES/bids/sub-034-M/func/sub-034-M_task-verbs_bold.nii',\n",
       " '/mnt/limbo/scratch/CARES/bids/sub-036-M/func/sub-036-M_task-verbs_bold.nii',\n",
       " '/mnt/limbo/scratch/CARES/bids/sub-037-M/func/sub-037-M_task-verbs_bold.nii',\n",
       " '/mnt/limbo/scratch/CARES/bids/sub-041-M/func/sub-041-M_task-verbs_bold.nii',\n",
       " '/mnt/limbo/scratch/CARES/bids/sub-042-M/func/sub-042-M_task-verbs_bold.nii',\n",
       " '/mnt/limbo/scratch/CARES/bids/sub-046-M/func/sub-046-M_task-verbs_bold.nii',\n",
       " '/mnt/limbo/scratch/CARES/bids/sub-052-C/func/sub-052-C_task-verbs_bold.nii',\n",
       " '/mnt/limbo/scratch/CARES/bids/sub-053-C/func/sub-053-C_task-verbs_bold.nii',\n",
       " '/mnt/limbo/scratch/CARES/bids/sub-054-C/func/sub-054-C_task-verbs_bold.nii',\n",
       " '/mnt/limbo/scratch/CARES/bids/sub-059-M/func/sub-059-M_task-verbs_bold.nii',\n",
       " '/mnt/limbo/scratch/CARES/bids/sub-060-M/func/sub-060-M_task-verbs_bold.nii',\n",
       " '/mnt/limbo/scratch/CARES/bids/sub-066-M/func/sub-066-M_task-verbs_bold.nii',\n",
       " '/mnt/limbo/scratch/CARES/bids/sub-068-M/func/sub-068-M_task-verbs_bold.nii',\n",
       " '/mnt/limbo/scratch/CARES/bids/sub-069-M/func/sub-069-M_task-verbs_bold.nii',\n",
       " '/mnt/limbo/scratch/CARES/bids/sub-073-M/func/sub-073-M_task-verbs_bold.nii',\n",
       " '/mnt/limbo/scratch/CARES/bids/sub-077-C/func/sub-077-C_task-verbs_bold.nii',\n",
       " '/mnt/limbo/scratch/CARES/bids/sub-082-C/func/sub-082-C_task-verbs_bold.nii',\n",
       " '/mnt/limbo/scratch/CARES/bids/sub-086-C/func/sub-086-C_task-verbs_bold.nii',\n",
       " '/mnt/limbo/scratch/CARES/bids/sub-087-M/func/sub-087-M_task-verbs_bold.nii',\n",
       " '/mnt/limbo/scratch/CARES/bids/sub-088-M/func/sub-088-M_task-verbs_bold.nii',\n",
       " '/mnt/limbo/scratch/CARES/bids/sub-090-M/func/sub-090-M_task-verbs_bold.nii',\n",
       " '/mnt/limbo/scratch/CARES/bids/sub-091-C/func/sub-091-C_task-verbs_bold.nii',\n",
       " '/mnt/limbo/scratch/CARES/bids/sub-094-C/func/sub-094-C_task-verbs_bold.nii',\n",
       " '/mnt/limbo/scratch/CARES/bids/sub-095-C/func/sub-095-C_task-verbs_bold.nii',\n",
       " '/mnt/limbo/scratch/CARES/bids/sub-098-C/func/sub-098-C_task-verbs_bold.nii',\n",
       " '/mnt/limbo/scratch/CARES/bids/sub-107-M/func/sub-107-M_task-verbs_bold.nii',\n",
       " '/mnt/limbo/scratch/CARES/bids/sub-116-M/func/sub-116-M_task-verbs_bold.nii',\n",
       " '/mnt/limbo/scratch/CARES/bids/sub-122-M/func/sub-122-M_task-verbs_bold.nii',\n",
       " '/mnt/limbo/scratch/CARES/bids/sub-123-M/func/sub-123-M_task-verbs_bold.nii',\n",
       " '/mnt/limbo/scratch/CARES/bids/sub-125-M/func/sub-125-M_task-verbs_bold.nii',\n",
       " '/mnt/limbo/scratch/CARES/bids/sub-126-M/func/sub-126-M_task-verbs_bold.nii',\n",
       " '/mnt/limbo/scratch/CARES/bids/sub-127-M/func/sub-127-M_task-verbs_bold.nii',\n",
       " '/mnt/limbo/scratch/CARES/bids/sub-128-M/func/sub-128-M_task-verbs_bold.nii',\n",
       " '/mnt/limbo/scratch/CARES/bids/sub-131-C/func/sub-131-C_task-verbs_bold.nii',\n",
       " '/mnt/limbo/scratch/CARES/bids/sub-132-M/func/sub-132-M_task-verbs_bold.nii',\n",
       " '/mnt/limbo/scratch/CARES/bids/sub-133-M/func/sub-133-M_task-verbs_bold.nii',\n",
       " '/mnt/limbo/scratch/CARES/bids/sub-136-M/func/sub-136-M_task-verbs_bold.nii',\n",
       " '/mnt/limbo/scratch/CARES/bids/sub-137-M/func/sub-137-M_task-verbs_bold.nii',\n",
       " '/mnt/limbo/scratch/CARES/bids/sub-138-M/func/sub-138-M_task-verbs_bold.nii',\n",
       " '/mnt/limbo/scratch/CARES/bids/sub-139-M/func/sub-139-M_task-verbs_bold.nii',\n",
       " '/mnt/limbo/scratch/CARES/bids/sub-140-C/func/sub-140-C_task-verbs_bold.nii',\n",
       " '/mnt/limbo/scratch/CARES/bids/sub-148-C/func/sub-148-C_task-verbs_bold.nii',\n",
       " '/mnt/limbo/scratch/CARES/bids/sub-149-C/func/sub-149-C_task-verbs_bold.nii',\n",
       " '/mnt/limbo/scratch/CARES/bids/sub-155-M/func/sub-155-M_task-verbs_bold.nii',\n",
       " '/mnt/limbo/scratch/CARES/bids/sub-156-M/func/sub-156-M_task-verbs_bold.nii',\n",
       " '/mnt/limbo/scratch/CARES/bids/sub-158-M/func/sub-158-M_task-verbs_bold.nii',\n",
       " '/mnt/limbo/scratch/CARES/bids/sub-159-M/func/sub-159-M_task-verbs_bold.nii',\n",
       " '/mnt/limbo/scratch/CARES/bids/sub-161-M/func/sub-161-M_task-verbs_bold.nii',\n",
       " '/mnt/limbo/scratch/CARES/bids/sub-162-M/func/sub-162-M_task-verbs_bold.nii',\n",
       " '/mnt/limbo/scratch/CARES/bids/sub-178-M/func/sub-178-M_task-verbs_bold.nii',\n",
       " '/mnt/limbo/scratch/CARES/bids/sub-179-M/func/sub-179-M_task-verbs_bold.nii',\n",
       " '/mnt/limbo/scratch/CARES/bids/sub-180-M/func/sub-180-M_task-verbs_bold.nii',\n",
       " '/mnt/limbo/scratch/CARES/bids/sub-181-M/func/sub-181-M_task-verbs_bold.nii',\n",
       " '/mnt/limbo/scratch/CARES/bids/sub-184-M/func/sub-184-M_task-verbs_bold.nii',\n",
       " '/mnt/limbo/scratch/CARES/bids/sub-185-M/func/sub-185-M_task-verbs_bold.nii',\n",
       " '/mnt/limbo/scratch/CARES/bids/sub-186-M/func/sub-186-M_task-verbs_bold.nii',\n",
       " '/mnt/limbo/scratch/CARES/bids/sub-195-C/func/sub-195-C_task-verbs_bold.nii',\n",
       " '/mnt/limbo/scratch/CARES/bids/sub-200-M/func/sub-200-M_task-verbs_bold.nii',\n",
       " '/mnt/limbo/scratch/CARES/bids/sub-201-M/func/sub-201-M_task-verbs_bold.nii',\n",
       " '/mnt/limbo/scratch/CARES/bids/sub-202-M/func/sub-202-M_task-verbs_bold.nii',\n",
       " '/mnt/limbo/scratch/CARES/bids/sub-203-M/func/sub-203-M_task-verbs_bold.nii',\n",
       " '/mnt/limbo/scratch/CARES/bids/sub-205-M/func/sub-205-M_task-verbs_bold.nii',\n",
       " '/mnt/limbo/scratch/CARES/bids/sub-207-C/func/sub-207-C_task-verbs_bold.nii',\n",
       " '/mnt/limbo/scratch/CARES/bids/sub-210-M/func/sub-210-M_task-verbs_bold.nii',\n",
       " '/mnt/limbo/scratch/CARES/bids/sub-213-M/func/sub-213-M_task-verbs_bold.nii',\n",
       " '/mnt/limbo/scratch/CARES/bids/sub-214-M/func/sub-214-M_task-verbs_bold.nii',\n",
       " '/mnt/limbo/scratch/CARES/bids/sub-236-M/func/sub-236-M_task-verbs_bold.nii',\n",
       " '/mnt/limbo/scratch/CARES/bids/sub-237-M/func/sub-237-M_task-verbs_bold.nii',\n",
       " '/mnt/limbo/scratch/CARES/bids/sub-245-M/func/sub-245-M_task-verbs_bold.nii',\n",
       " '/mnt/limbo/scratch/CARES/bids/sub-247-M/func/sub-247-M_task-verbs_bold.nii',\n",
       " '/mnt/limbo/scratch/CARES/bids/sub-251-P/func/sub-251-P_task-verbs_bold.nii',\n",
       " '/mnt/limbo/scratch/CARES/bids/sub-254-M/func/sub-254-M_task-verbs_bold.nii',\n",
       " '/mnt/limbo/scratch/CARES/bids/sub-255-M/func/sub-255-M_task-verbs_bold.nii',\n",
       " '/mnt/limbo/scratch/CARES/bids/sub-256-M/func/sub-256-M_task-verbs_bold.nii',\n",
       " '/mnt/limbo/scratch/CARES/bids/sub-277-M/func/sub-277-M_task-verbs_bold.nii',\n",
       " '/mnt/limbo/scratch/CARES/bids/sub-289-P/func/sub-289-P_task-verbs_bold.nii',\n",
       " '/mnt/limbo/scratch/CARES/bids/sub-302-M/func/sub-302-M_task-verbs_bold.nii',\n",
       " '/mnt/limbo/scratch/CARES/bids/sub-310-P/func/sub-310-P_task-verbs_bold.nii',\n",
       " '/mnt/limbo/scratch/CARES/bids/sub-311-P/func/sub-311-P_task-verbs_bold.nii',\n",
       " '/mnt/limbo/scratch/CARES/bids/sub-327-P/func/sub-327-P_task-verbs_bold.nii',\n",
       " '/mnt/limbo/scratch/CARES/bids/sub-331-C/func/sub-331-C_task-verbs_bold.nii',\n",
       " '/mnt/limbo/scratch/CARES/bids/sub-343-M/func/sub-343-M_task-verbs_bold.nii',\n",
       " '/mnt/limbo/scratch/CARES/bids/sub-361-M/func/sub-361-M_task-verbs_bold.nii',\n",
       " '/mnt/limbo/scratch/CARES/bids/sub-365-M/func/sub-365-M_task-verbs_bold.nii',\n",
       " '/mnt/limbo/scratch/CARES/bids/sub-370-M/func/sub-370-M_task-verbs_bold.nii',\n",
       " '/mnt/limbo/scratch/CARES/bids/sub-375-C/func/sub-375-C_task-verbs_bold.nii',\n",
       " '/mnt/limbo/scratch/CARES/bids/sub-376-C/func/sub-376-C_task-verbs_bold.nii',\n",
       " '/mnt/limbo/scratch/CARES/bids/sub-377-P/func/sub-377-P_task-verbs_bold.nii',\n",
       " '/mnt/limbo/scratch/CARES/bids/sub-379-C/func/sub-379-C_task-verbs_bold.nii',\n",
       " '/mnt/limbo/scratch/CARES/bids/sub-408-M/func/sub-408-M_task-verbs_bold.nii',\n",
       " '/mnt/limbo/scratch/CARES/bids/sub-415-M/func/sub-415-M_task-verbs_bold.nii',\n",
       " '/mnt/limbo/scratch/CARES/bids/sub-426-P/func/sub-426-P_task-verbs_bold.nii',\n",
       " '/mnt/limbo/scratch/CARES/bids/sub-427-P/func/sub-427-P_task-verbs_bold.nii',\n",
       " '/mnt/limbo/scratch/CARES/bids/sub-428-P/func/sub-428-P_task-verbs_bold.nii',\n",
       " '/mnt/limbo/scratch/CARES/bids/sub-448-P/func/sub-448-P_task-verbs_bold.nii',\n",
       " '/mnt/limbo/scratch/CARES/bids/sub-465-M/func/sub-465-M_task-verbs_bold.nii',\n",
       " '/mnt/limbo/scratch/CARES/bids/sub-475-M/func/sub-475-M_task-verbs_bold.nii',\n",
       " '/mnt/limbo/scratch/CARES/bids/sub-476-M/func/sub-476-M_task-verbs_bold.nii',\n",
       " '/mnt/limbo/scratch/CARES/bids/sub-607-EL/func/sub-607-EL_task-verbs_bold.nii',\n",
       " '/mnt/limbo/scratch/CARES/bids/sub-614-EL/func/sub-614-EL_task-verbs_bold.nii',\n",
       " '/mnt/limbo/scratch/CARES/bids/sub-615-EL/func/sub-615-EL_task-verbs_bold.nii',\n",
       " '/mnt/limbo/scratch/CARES/bids/sub-650-EL/func/sub-650-EL_task-verbs_bold.nii',\n",
       " '/mnt/limbo/scratch/CARES/bids/sub-661-EL/func/sub-661-EL_task-verbs_bold.nii',\n",
       " '/mnt/limbo/scratch/CARES/bids/sub-677-EL/func/sub-677-EL_task-verbs_bold.nii',\n",
       " '/mnt/limbo/scratch/CARES/bids/sub-695-EL/func/sub-695-EL_task-verbs_bold.nii',\n",
       " '/mnt/limbo/scratch/CARES/bids/sub-710-EL/func/sub-710-EL_task-verbs_bold.nii',\n",
       " '/mnt/limbo/scratch/CARES/bids/sub-725-EL/func/sub-725-EL_task-verbs_bold.nii',\n",
       " '/mnt/limbo/scratch/CARES/bids/sub-728-EL/func/sub-728-EL_task-verbs_bold.nii']"
      ]
     },
     "execution_count": 8,
     "metadata": {},
     "output_type": "execute_result"
    }
   ],
   "source": []
  }
 ],
 "metadata": {
  "kernelspec": {
   "display_name": "Python 3 (ipykernel)",
   "language": "python",
   "name": "python3"
  },
  "language_info": {
   "codemirror_mode": {
    "name": "ipython",
    "version": 3
   },
   "file_extension": ".py",
   "mimetype": "text/x-python",
   "name": "python",
   "nbconvert_exporter": "python",
   "pygments_lexer": "ipython3",
   "version": "3.9.12"
  }
 },
 "nbformat": 4,
 "nbformat_minor": 5
}
